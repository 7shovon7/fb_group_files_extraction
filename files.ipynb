{
 "cells": [
  {
   "cell_type": "code",
   "execution_count": 1,
   "metadata": {},
   "outputs": [],
   "source": [
    "from selenium import webdriver\n",
    "from selenium.webdriver.common.keys import Keys\n",
    "from selenium.webdriver.chrome.options import Options\n",
    "from bs4 import BeautifulSoup\n",
    "from time import sleep\n",
    "import random\n",
    "import pickle"
   ]
  },
  {
   "cell_type": "code",
   "execution_count": 2,
   "metadata": {},
   "outputs": [],
   "source": [
    "# Chrome Set Up\n",
    "download_directory = \"/home/mars/Desktop/programming/python/fb_group_files_extraction/downloaded_files\"\n",
    "chrome_options = Options()\n",
    "chrome_options.add_experimental_option(\"prefs\", {\n",
    "    \"download.default_directory\": download_directory,\n",
    "    \"download.prompt_for_download\": False,\n",
    "    \"download.directory_upgrade\": True,\n",
    "    \"plugins.always_open_pdf_externally\": True\n",
    "})\n",
    "driver = webdriver.Chrome(options=chrome_options)\n",
    "sleep(2)\n",
    "driver.maximize_window()"
   ]
  },
  {
   "cell_type": "code",
   "execution_count": 3,
   "metadata": {},
   "outputs": [],
   "source": [
    "# Constants\n",
    "fb_url = \"https://www.facebook.com\"\n",
    "# Credentials\n",
    "creds = open('creds/fb_creds.txt').readlines()\n",
    "fb_id = creds[0].strip()\n",
    "fb_pass = creds[1].strip()\n",
    "# Groups\n",
    "groups = []\n",
    "lines = open('group_ids.txt').readlines()\n",
    "for line in lines:\n",
    "    key_value = line.strip().split(':')\n",
    "    group = {\n",
    "        'Name': key_value[0].strip(),\n",
    "        'ID': key_value[1].strip()\n",
    "    }\n",
    "    groups.append(group)"
   ]
  },
  {
   "cell_type": "code",
   "execution_count": 4,
   "metadata": {},
   "outputs": [],
   "source": [
    "def fb_login(driver, login_id, password, cookies_file):\n",
    "    email_el = driver.find_element_by_name('email')\n",
    "    password_el = driver.find_element_by_name('pass')\n",
    "    email_el.clear()\n",
    "    email_el.send_keys(login_id)\n",
    "    sleep(2)\n",
    "    password_el.clear()\n",
    "    password_el.send_keys(password)\n",
    "    sleep(2)\n",
    "    login_btn = driver.find_element_by_xpath('//input[@aria-label=\"Log In\"]')\n",
    "    login_btn.click()\n",
    "    sleep(3)\n",
    "    driver.find_element_by_tag_name('body').send_keys(Keys.ESCAPE)\n",
    "    pickle.dump(driver.get_cookies(), open(cookies_file, 'wb'))\n",
    "    sleep(2)\n",
    "\n",
    "\n",
    "def load_cookies(driver, location, url=None):\n",
    "    cookies = pickle.load(open(location, 'rb'))\n",
    "    driver.delete_all_cookies()\n",
    "    url = \"https://www.google.com\" if url is None else url\n",
    "    driver.get(url)\n",
    "    for cookie in cookies:\n",
    "        driver.add_cookie(cookie)\n",
    "\n",
    "\n",
    "# def search_in_fb(driver, keywords):\n",
    "#     search_box = driver.find_element_by_name('q')\n",
    "#     search_box.clear()\n",
    "#     search_box.send_keys(keywords)\n",
    "#     search_btn = driver.find_element_by_xpath('//button[@aria-label=\"Search\"]')\n",
    "#     search_btn.click()\n",
    "#     sleep(2)\n",
    "#     first_search_el = driver.find_element_by_xpath('//div[@class=\"_6v_0 _4ik4 _4ik5\"]/a')\n",
    "#     first_search_el.click()\n",
    "#     sleep(2)\n",
    "\n",
    "\n",
    "def grab_group_files(driver, group_id):\n",
    "    driver.get(f'https://www.facebook.com/groups/{group_id}/files/')\n",
    "    sleep(2)\n",
    "    files_ul = driver.find_element_by_xpath('//ul[@class=\"uiList _4kg _4ks\"]')\n",
    "    files_li = driver.find_elements_by_class_name('_pu_')\n",
    "    all_files = []\n",
    "    for file_li in files_li:\n",
    "        upload_time = file_li.find_element_by_class_name('timestampContent').text\n",
    "        download_link = file_li.find_element_by_tag_name('a').get_attribute('href')\n",
    "        file_type = file_li.find_element_by_xpath('//span[@class=\"_50f8\"]').text.strip().lower()\n",
    "        if file_type != 'document':\n",
    "            fl = {\n",
    "                'Download Link': download_link,\n",
    "                'Upload Time': upload_time\n",
    "            }\n",
    "            all_files.append(fl)\n",
    "    return all_files\n",
    "    "
   ]
  },
  {
   "cell_type": "code",
   "execution_count": 5,
   "metadata": {},
   "outputs": [],
   "source": [
    "try:\n",
    "    load_cookies(driver, 'cookies/mars_fb_cookies.txt')\n",
    "    sleep(2)\n",
    "    driver.get(fb_url)\n",
    "    sleep(2)\n",
    "except:\n",
    "    fb_login(driver, fb_id, fb_pass, 'cookies/mars_fb_cookies.txt')"
   ]
  },
  {
   "cell_type": "code",
   "execution_count": 6,
   "metadata": {},
   "outputs": [],
   "source": [
    "grabbed_files = []\n",
    "for group in groups:\n",
    "    fls = grab_group_files(driver, group['ID'])\n",
    "    dct = {\n",
    "        'Group Name': group['Name'],\n",
    "        'Files': fls\n",
    "    }\n",
    "    grabbed_files.append(dct)"
   ]
  },
  {
   "cell_type": "code",
   "execution_count": 7,
   "metadata": {},
   "outputs": [],
   "source": [
    "for group in grabbed_files:\n",
    "    g_files = group['Files']\n",
    "    for file in g_files:\n",
    "        d_link = file['Download Link']\n",
    "        driver.get(d_link)\n",
    "        sleep(random.randrange(2,5))"
   ]
  },
  {
   "cell_type": "code",
   "execution_count": 8,
   "metadata": {},
   "outputs": [
    {
     "name": "stdout",
     "output_type": "stream",
     "text": [
      "Type exit when downloads successfully done: exit\n"
     ]
    }
   ],
   "source": [
    "closing_command = ''\n",
    "while closing_command.lower() != 'exit':\n",
    "    closing_command = input(\"Type exit when downloads successfully done: \")\n",
    "    if closing_command.lower() == 'exit':\n",
    "        driver.close()"
   ]
  }
 ],
 "metadata": {
  "kernelspec": {
   "display_name": "Python 3.8.2 64-bit",
   "language": "python",
   "name": "python38264bit2773b01ffd8f4539a47c872b218cf130"
  },
  "language_info": {
   "codemirror_mode": {
    "name": "ipython",
    "version": 3
   },
   "file_extension": ".py",
   "mimetype": "text/x-python",
   "name": "python",
   "nbconvert_exporter": "python",
   "pygments_lexer": "ipython3",
   "version": "3.8.2"
  }
 },
 "nbformat": 4,
 "nbformat_minor": 4
}
