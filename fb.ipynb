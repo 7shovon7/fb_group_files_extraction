{
 "cells": [
  {
   "cell_type": "code",
   "execution_count": 10,
   "metadata": {},
   "outputs": [],
   "source": [
    "import requests\n",
    "import facebook"
   ]
  },
  {
   "cell_type": "code",
   "execution_count": 11,
   "metadata": {},
   "outputs": [],
   "source": [
    "# graph_host = 'http://graph.facebook.com/v7.0/me/'\n",
    "\n",
    "# r = requests.get(graph_host, headers={'Authorization': 'access_token EAAUJBmm5xToBAPXZCMwXieZCO3f4Mm3zm0s8oGcmeqAs86Xos0mbGcI0wVJBSzlNWGwVY1f0wB8iIifzxLGfjPP3V8EOtgYS2z4us9UxcI5vUB3B0cYgJQnKrw1avvftxnbZAWEtUCCTNBhfriLHCJNxafe9g6ScsKSqyNIEN3yBssd3UELWVar8WPwwaSUVmekhC0kqWyZBUAsEZC02zYXgEiZBXOGcY8QZAIHICFrPAZDZD'})"
   ]
  },
  {
   "cell_type": "code",
   "execution_count": 13,
   "metadata": {},
   "outputs": [],
   "source": [
    "graph = facebook.GraphAPI(access_token=\"EAAUJBmm5xToBAPXZCMwXieZCO3f4Mm3zm0s8oGcmeqAs86Xos0mbGcI0wVJBSzlNWGwVY1f0wB8iIifzxLGfjPP3V8EOtgYS2z4us9UxcI5vUB3B0cYgJQnKrw1avvftxnbZAWEtUCCTNBhfriLHCJNxafe9g6ScsKSqyNIEN3yBssd3UELWVar8WPwwaSUVmekhC0kqWyZBUAsEZC02zYXgEiZBXOGcY8QZAIHICFrPAZDZD\", version=3.1)"
   ]
  },
  {
   "cell_type": "code",
   "execution_count": 19,
   "metadata": {},
   "outputs": [
    {
     "output_type": "error",
     "ename": "GraphAPIError",
     "evalue": "(#200) Requires either admin with granted managed_group pemissions or member\n      using installed app.",
     "traceback": [
      "\u001b[0;31m---------------------------------------------------------------------------\u001b[0m",
      "\u001b[0;31mGraphAPIError\u001b[0m                             Traceback (most recent call last)",
      "\u001b[0;32m<ipython-input-19-f3d5f23ef99f>\u001b[0m in \u001b[0;36m<module>\u001b[0;34m\u001b[0m\n\u001b[0;32m----> 1\u001b[0;31m \u001b[0mx\u001b[0m \u001b[0;34m=\u001b[0m \u001b[0mgraph\u001b[0m\u001b[0;34m.\u001b[0m\u001b[0mget_object\u001b[0m\u001b[0;34m(\u001b[0m\u001b[0;34m'620506708078326/files?fields=download_link'\u001b[0m\u001b[0;34m)\u001b[0m\u001b[0;34m\u001b[0m\u001b[0;34m\u001b[0m\u001b[0m\n\u001b[0m",
      "\u001b[0;32m~/.local/lib/python3.8/site-packages/facebook/__init__.py\u001b[0m in \u001b[0;36mget_object\u001b[0;34m(self, id, **args)\u001b[0m\n\u001b[1;32m    124\u001b[0m     \u001b[0;32mdef\u001b[0m \u001b[0mget_object\u001b[0m\u001b[0;34m(\u001b[0m\u001b[0mself\u001b[0m\u001b[0;34m,\u001b[0m \u001b[0mid\u001b[0m\u001b[0;34m,\u001b[0m \u001b[0;34m**\u001b[0m\u001b[0margs\u001b[0m\u001b[0;34m)\u001b[0m\u001b[0;34m:\u001b[0m\u001b[0;34m\u001b[0m\u001b[0;34m\u001b[0m\u001b[0m\n\u001b[1;32m    125\u001b[0m         \u001b[0;34m\"\"\"Fetches the given object from the graph.\"\"\"\u001b[0m\u001b[0;34m\u001b[0m\u001b[0;34m\u001b[0m\u001b[0m\n\u001b[0;32m--> 126\u001b[0;31m         \u001b[0;32mreturn\u001b[0m \u001b[0mself\u001b[0m\u001b[0;34m.\u001b[0m\u001b[0mrequest\u001b[0m\u001b[0;34m(\u001b[0m\u001b[0;34m\"{0}/{1}\"\u001b[0m\u001b[0;34m.\u001b[0m\u001b[0mformat\u001b[0m\u001b[0;34m(\u001b[0m\u001b[0mself\u001b[0m\u001b[0;34m.\u001b[0m\u001b[0mversion\u001b[0m\u001b[0;34m,\u001b[0m \u001b[0mid\u001b[0m\u001b[0;34m)\u001b[0m\u001b[0;34m,\u001b[0m \u001b[0margs\u001b[0m\u001b[0;34m)\u001b[0m\u001b[0;34m\u001b[0m\u001b[0;34m\u001b[0m\u001b[0m\n\u001b[0m\u001b[1;32m    127\u001b[0m \u001b[0;34m\u001b[0m\u001b[0m\n\u001b[1;32m    128\u001b[0m     \u001b[0;32mdef\u001b[0m \u001b[0mget_objects\u001b[0m\u001b[0;34m(\u001b[0m\u001b[0mself\u001b[0m\u001b[0;34m,\u001b[0m \u001b[0mids\u001b[0m\u001b[0;34m,\u001b[0m \u001b[0;34m**\u001b[0m\u001b[0margs\u001b[0m\u001b[0;34m)\u001b[0m\u001b[0;34m:\u001b[0m\u001b[0;34m\u001b[0m\u001b[0;34m\u001b[0m\u001b[0m\n",
      "\u001b[0;32m~/.local/lib/python3.8/site-packages/facebook/__init__.py\u001b[0m in \u001b[0;36mrequest\u001b[0;34m(self, path, args, post_args, files, method)\u001b[0m\n\u001b[1;32m    311\u001b[0m \u001b[0;34m\u001b[0m\u001b[0m\n\u001b[1;32m    312\u001b[0m         \u001b[0;32mif\u001b[0m \u001b[0mresult\u001b[0m \u001b[0;32mand\u001b[0m \u001b[0misinstance\u001b[0m\u001b[0;34m(\u001b[0m\u001b[0mresult\u001b[0m\u001b[0;34m,\u001b[0m \u001b[0mdict\u001b[0m\u001b[0;34m)\u001b[0m \u001b[0;32mand\u001b[0m \u001b[0mresult\u001b[0m\u001b[0;34m.\u001b[0m\u001b[0mget\u001b[0m\u001b[0;34m(\u001b[0m\u001b[0;34m\"error\"\u001b[0m\u001b[0;34m)\u001b[0m\u001b[0;34m:\u001b[0m\u001b[0;34m\u001b[0m\u001b[0;34m\u001b[0m\u001b[0m\n\u001b[0;32m--> 313\u001b[0;31m             \u001b[0;32mraise\u001b[0m \u001b[0mGraphAPIError\u001b[0m\u001b[0;34m(\u001b[0m\u001b[0mresult\u001b[0m\u001b[0;34m)\u001b[0m\u001b[0;34m\u001b[0m\u001b[0;34m\u001b[0m\u001b[0m\n\u001b[0m\u001b[1;32m    314\u001b[0m         \u001b[0;32mreturn\u001b[0m \u001b[0mresult\u001b[0m\u001b[0;34m\u001b[0m\u001b[0;34m\u001b[0m\u001b[0m\n\u001b[1;32m    315\u001b[0m \u001b[0;34m\u001b[0m\u001b[0m\n",
      "\u001b[0;31mGraphAPIError\u001b[0m: (#200) Requires either admin with granted managed_group pemissions or member\n      using installed app."
     ]
    }
   ],
   "source": [
    "x = graph.get_object('620506708078326/files?fields=download_link')"
   ]
  },
  {
   "cell_type": "code",
   "execution_count": 18,
   "metadata": {},
   "outputs": [
    {
     "output_type": "execute_result",
     "data": {
      "text/plain": "{'data': [{'download_link': 'https://lookaside.fbsbx.com/file/BANGLADESH_BANK-1.pdf?token=AWw90I-AYMPCGeD4Wf7N4ghoWPuGCeJhxagFar2NV9u3jnI8xAb03IMD2MUi7393RWXThIWtnY0N85lzP4yXbp_ReUW5dPM7aXSf1GcaXwg0otDtNf3I8Gc6pIY_0IJPqrbZFxm245otCHWS0mw2hlFXPK8TDCjAEGI1VjfdZXhAMAkHA3E0LMejiB64Pju9I8U',\n   'id': '3027698150631300'},\n  {'download_link': 'https://lookaside.fbsbx.com/file/Social_Science_DU_2017-2019.pdf?token=AWzeufHNrGeZGY0MGb6dYoFXvVwk1gdCH4oTp_FTxc87sXjt5A5-FdJ78iZIa9Bi2CQ3HvEsxUwiRXpCSZljEJPuvQDIp3MNXDTvxmBRAkCuzxWJeTA-RsjGJgVl0fIkBX99-olcBs0MLn0MIZyesnH5YgIGTcGIRfp26bobuY9ShQ3TT32hknu-vTTnDlQ5njM',\n   'id': '638635020031558'},\n  {'download_link': 'https://lookaside.fbsbx.com/file/%E0%A6%A6%E0%A7%81%E0%A6%B0%E0%A7%8D%E0%A6%A8%E0%A7%80%E0%A6%A4%E0%A6%BF%20%E0%A6%A6%E0%A6%AE%E0%A6%A8%20%E0%A6%95%E0%A6%AE%E0%A6%BF%E0%A6%B6%E0%A6%A8%20%E0%A6%AC%E0%A6%BF%E0%A6%97%E0%A6%A4%20%E0%A6%AC%E0%A6%9B%E0%A6%B0%E0%A7%87%E0%A6%B0%20%E0%A6%AA%E0%A7%8D%E0%A6%B0%E0%A6%B6%E0%A7%8D%E0%A6%A8%E0%A6%BE%E0%A6%AC%E0%A6%B2%E0%A7%80.PDF?token=AWysog67z9GyIRJgVl703mvIKKoJVlYBYRDPlwb038hrMwT06HE_V9wZb0f2T5JvzmesHjtcq9vdITLRCMhSdsRg8hs-ioFhXP8X91NsUZL-K3CvzjqxuMkqzomtF2i4jbKcmUISUi6rAnz6w_f73eDVQxaO9GdNOZZK8dyKG-YXjAwyciNqp5V-71sh7Mn3_U4',\n   'id': '2248895565404800'},\n  {'download_link': 'https://lookaside.fbsbx.com/file/Current%20Affairs%20Saltamami%202019-book.exambd.net-%20.pdf?token=AWzw7Muw0gRh1gZrhyw0_E6OnOOMdLzbocTXUAWO6OK-Vqf_fODiG8vTa7IzT0_CeejDbLGLMJASe5mM3qMjioBPn8zHGxJhbbHWVO34tPp0hvJVDvP1P4NndKjN1F9ySJS4qEW_wWw6yVv7F6aIVnr6M-kLs1ZkjM5SvK45NdXz_qHrFKj0PIlp--x8iv_WseI',\n   'id': '128759295135210'},\n  {'download_link': 'https://lookaside.fbsbx.com/file/%E0%A6%B8%E0%A6%BE%E0%A6%AE%E0%A7%8D%E0%A6%AA%E0%A7%8D%E0%A6%B0%E0%A6%A4%E0%A6%BF%E0%A6%95%20MCQ%20%E0%A6%AB%E0%A7%87%E0%A6%AC%E0%A7%8D%E0%A6%B0%E0%A7%81%E0%A6%AF%E0%A6%BC%E0%A6%BE%E0%A6%B0%E0%A6%BF%20%E0%A7%A8%E0%A7%A6%E0%A7%A8%E0%A7%A6_-_bdchakri.com.pdf?token=AWz6XYDVNZGSv_Q_igxaM2QH1y1FhaTtc9is3V33_iDSEL3K4Pt8JhmshBvOq_LLTGy6f4aI3drowD0XcyIFp4pDoYOO-SdZ5i58T6vOPb0wBp2bZOfhaZTi-3fju0WF1slMtqmncd8ZF1ugUWqT1J51Jc3F2x6g0tlAOGzYgs16v-rxVMdeN_FMARNYsAP_lg8',\n   'id': '1506851922824944'},\n  {'download_link': 'https://lookaside.fbsbx.com/file/%E0%A6%A6%E0%A7%81%E0%A6%A6%E0%A6%95-%20%E0%A6%95%E0%A6%AE%E0%A7%8D%E0%A6%AA%E0%A6%BF%E0%A6%89%E0%A6%9F%E0%A6%BE%E0%A6%B0.pdf?token=AWweN0er6v2LLBXw3OyvpjkfyRtaluGhc4zTgz0QWGZiNexVKNGwmc_94qsSHVbukzWJ2Wf2FYF-c3zFtOHN0KuvJXrrFCkAhNk60nJdnZEnEROZariW0sMJ2olEOfoz2drRS1DU2PiEnQbQEu1XQgfgEDrPZxK93tpR2wMwmpvJ3Rabt8Zmpo0gxjqSN_OmqNs',\n   'id': '186831475969298'},\n  {'download_link': 'https://lookaside.fbsbx.com/file/%E0%A6%A6%E0%A7%81%E0%A6%A6%E0%A6%95%E0%A7%87%E0%A6%B0%20%E0%A6%95%E0%A6%AE%E0%A7%8D%E0%A6%AA%E0%A6%BF%E0%A6%89%E0%A6%9F%E0%A6%BE%E0%A6%B0%20%E0%A6%B0%E0%A6%BF%E0%A6%9F%E0%A7%87%E0%A6%A8%2B%20%E0%A6%AA%E0%A7%8D%E0%A6%AF%E0%A6%BE%E0%A6%95%E0%A7%8D%E0%A6%9F%E0%A6%BF%E0%A6%95%E0%A7%8D%E0%A6%AF%E0%A6%BE%E0%A6%B2%20%E0%A6%85%E0%A6%82%E0%A6%B6%E0%A7%87%E0%A6%B0%20%E0%A6%AA%E0%A6%BF%E0%A6%A1%E0%A6%BF%E0%A6%8F%E0%A6%AB%20%E0%A6%B8%E0%A7%87%E0%A6%B2%E0%A6%AB%20%E0%A6%B8%E0%A6%BE%E0%A6%9C%E0%A7%87%E0%A6%B6%E0%A6%A8%20%E0%A6%AC%E0%A6%87%E0%A7%9F%E0%A7%87%E0%A6%B0.pdf?token=AWzStenwnKX8_bB8wEGzaLncQtfG7lw7TcizCsOdCI6XMliZrbp6Ig-JOahxjJ_kfmqCT_Ed6vdu9az4CNqaCbTeYEF7A_g7IkTscXO3_b7siHRiNkTXzj4dCj5sSsCt1K5qhsKo0-34ynQEb1_oCjCSKq_WygxFpXHEsKLKwo5Cb4BimXnEF8mIwXjSvGpNnuM',\n   'id': '2411058798999527'},\n  {'download_link': 'https://lookaside.fbsbx.com/file/%E0%A6%A6%E0%A7%81%E0%A6%A6%E0%A6%95-pdf-2_compressed.pdf?token=AWyNonf7FQZWQeisr9AJjkUUm4pWgoU4yEQ2orJ7yY4Jzi8DeDsSAEDsa_V9GKSRbNgK7BGFl92XmdoGbGgFZg4MVIDclOOhopJjuizfzROBuBWjweAf5_Oa_e8vU1CMKfCC-SYUGHT1kN5-Zpmle2eME6rn-yHay5e68EEysCh1TtBceu8Hfg5LN7Li0-cDItk',\n   'id': '2840885275974101'},\n  {'download_link': 'https://lookaside.fbsbx.com/file/%E0%A6%A6%E0%A7%81%E0%A6%A6%E0%A6%95-pdf-%E0%A7%A7.pdf?token=AWyKOyeNHO1Ub7TGXUiv9lYGbhKRGutvJClN2rFzn8LFJaGeKB6H2LLWWlpFQ1B5lTFdRfvJsbGC-aTGn8_2cyHcfK5KRE-2iUQ93U-EcH4Go2Io6NVgH92mRMSn09ACuh8tvNq8seQQZxYo16MglMcS8KMipq2p9t8sFjG2hDckGTLPcAF4k9tKfK8bQtxZXUI',\n   'id': '621818651917240'},\n  {'download_link': 'https://lookaside.fbsbx.com/file/%E0%A6%AA%E0%A6%BF%E0%A6%8F%E0%A6%B8%E0%A6%8F%E0%A6%B8%E0%A6%BF%E0%A6%B0%20%E0%A6%95%E0%A6%AC%E0%A6%BF-%E0%A6%B8%E0%A6%BE%E0%A6%B9%E0%A6%BF%E0%A6%A4%E0%A7%8D%E0%A6%AF%E0%A6%BF%E0%A6%95-%20%E0%A6%AA%E0%A6%9E%E0%A7%8D%E0%A6%9A%20%E0%A6%AA%E0%A6%BE%E0%A6%A8%E0%A7%8D%E0%A6%A1%E0%A6%AC.pdf?token=AWy4X5UaITpFZsynSvvdRfmQXCxdBXT3h93_PkV60sc1zicXhhLXR0n8of8Tgfb4Q0Qw0sNGPF7qR_PyRrCV9X4ZmGX7jyShNz2a8gXJngVl-mZR5u2_VJMdr1x4GGOfVAKSf2fJgb0lfHfPmGQHlRfQP8LWDZG4GwhRTqRhyLAuG5D72HvAuUPX1qWU2nTuTA8',\n   'id': '240768833578733'},\n  {'download_link': 'https://lookaside.fbsbx.com/file/jan022019_bb_3.pdf?token=AWxkWCvLUBA5Tv_-4a_dlA-nu850mGg_01wvPPYLa6-M2jdXw0mJtrKrMWylqffYWQwDj0gwj7t52DyB7MIjSyaqU3whaWHCBXze8kkTtnW30_d80z4zyAjBEVV1gMGljJ_evIakiupov_chaPR7MRLzoUEwfGIsopl6fIm-dEWPvSvY2-Y7wMtjT9PGtyod2s0',\n   'id': '474292080191131'}],\n 'paging': {'cursors': {'after': 'NDc0MjkyMDgwMTkxMTMx',\n   'before': 'MzAyNzY5ODE1MDYzMTMwMA=='}}}"
     },
     "metadata": {},
     "execution_count": 18
    }
   ],
   "source": [
    "x"
   ]
  },
  {
   "cell_type": "code",
   "execution_count": null,
   "metadata": {},
   "outputs": [],
   "source": []
  }
 ],
 "metadata": {
  "language_info": {
   "codemirror_mode": {
    "name": "ipython",
    "version": 3
   },
   "file_extension": ".py",
   "mimetype": "text/x-python",
   "name": "python",
   "nbconvert_exporter": "python",
   "pygments_lexer": "ipython3",
   "version": "3.8.2-final"
  },
  "orig_nbformat": 2,
  "kernelspec": {
   "name": "python38264bitbeb9c60f5d6f40c6ad92cbcb916b6d9f",
   "display_name": "Python 3.8.2 64-bit"
  }
 },
 "nbformat": 4,
 "nbformat_minor": 2
}